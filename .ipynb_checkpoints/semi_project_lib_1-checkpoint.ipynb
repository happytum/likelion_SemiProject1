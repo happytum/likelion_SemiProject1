{
 "cells": [
  {
   "cell_type": "code",
   "execution_count": 1,
   "metadata": {},
   "outputs": [],
   "source": [
    "import pandas as pd \n",
    "import re\n",
    "import numpy as np\n",
    "import googlemaps\n",
    "import json\n",
    "import warnings #경고 제거\n",
    "warnings.filterwarnings(action='ignore')"
   ]
  },
  {
   "cell_type": "code",
   "execution_count": 1,
   "metadata": {},
   "outputs": [],
   "source": [
    "df = pd.read_csv(\"전국도서관표준데이터-20201223.csv\",header=1,encoding='utf-8') #CP949 , EUC-KR4\n",
    "df"
   ]
  },
  {
   "cell_type": "markdown",
   "metadata": {},
   "source": [
    "## 데이터 전처리"
   ]
  },
  {
   "cell_type": "markdown",
   "metadata": {},
   "source": [
    "1. 데이터 정리"
   ]
  },
  {
   "cell_type": "code",
   "execution_count": 2,
   "metadata": {},
   "outputs": [],
   "source": [
    "df.columns"
   ]
  },
  {
   "cell_type": "code",
   "execution_count": 4,
   "metadata": {},
   "outputs": [],
   "source": [
    "#열 이름 출력\n",
    "df.columns\n",
    "#필요한 열 리스트\n",
    "columns = ['도서관명','시도명','시군구명','열람좌석수','자료수(도서)','자료수(연속간행물)','자료수(비도서)','위도','경도','건물면적','도서관유형']\n",
    "#필요한 열만 분리해 신규 데이터프레임 생성\n",
    "df_lib = df[columns]"
   ]
  },
  {
   "cell_type": "code",
   "execution_count": 5,
   "metadata": {},
   "outputs": [],
   "source": [
    "#열 정리1. 통합\n",
    "df_lib['자료수'] = df_lib['자료수(도서)'] + df_lib['자료수(연속간행물)'] + df_lib['자료수(비도서)']"
   ]
  },
  {
   "cell_type": "code",
   "execution_count": 3,
   "metadata": {},
   "outputs": [],
   "source": [
    "# 열 정리2. 필요없는 열 제거\n",
    "dropList = [\"자료수(도서)\", \"자료수(연속간행물)\", \"자료수(비도서)\"]\n",
    "df_lib = df_lib.drop(dropList,axis=1)\n",
    "df_lib.head()"
   ]
  },
  {
   "cell_type": "code",
   "execution_count": 7,
   "metadata": {},
   "outputs": [],
   "source": [
    "#열 정리3. 보기 쉽도록 열 순서 변경\n",
    "columns = [\"도서관명\", \"시도명\", \"시군구명\", \"열람좌석수\", \"자료수\", \"위도\", \"경도\", \"도서관유형\", \"건물면적\"]\n",
    "df_lib = df_lib[columns]"
   ]
  },
  {
   "cell_type": "code",
   "execution_count": 8,
   "metadata": {},
   "outputs": [],
   "source": [
    "#서울 도서관만 남기기\n",
    "df_lib = df_lib[df_lib[\"시도명\"] == \"서울특별시\"]\n",
    "#index 제거\n",
    "df_lib.reset_index(inplace=True, drop=True)"
   ]
  },
  {
   "cell_type": "code",
   "execution_count": 4,
   "metadata": {},
   "outputs": [],
   "source": [
    "df_lib.head()"
   ]
  },
  {
   "cell_type": "markdown",
   "metadata": {},
   "source": [
    "#"
   ]
  },
  {
   "cell_type": "markdown",
   "metadata": {},
   "source": [
    "2. 결측치 채우기"
   ]
  },
  {
   "cell_type": "code",
   "execution_count": 5,
   "metadata": {},
   "outputs": [],
   "source": [
    "#결측치 처리를 위한 확인\n",
    "df_lib.isnull().sum()"
   ]
  },
  {
   "cell_type": "markdown",
   "metadata": {},
   "source": [
    "#"
   ]
  },
  {
   "cell_type": "markdown",
   "metadata": {},
   "source": [
    "\n",
    "*건물면적 결측치 채우기*\n",
    "\n",
    "1. 건물면적 값이 null인 데이터프레임 생성\n",
    "2. 임의로 값을 넣을만한 기준 구하기(서울 도서관의 열람좌석 1개당 건물면적 중위값)\n",
    "3. 기준에 맞춰 임의의 값 채우기\n",
    "4. 아직 비어있는 셀 구글링 통해 채우기\n",
    "5. 기존 데이터프레임에 삽입"
   ]
  },
  {
   "cell_type": "code",
   "execution_count": 8,
   "metadata": {},
   "outputs": [],
   "source": [
    "#결측치 채우기 1. 건물면적(1)\n",
    "\n",
    "null_df = df_lib[(df_lib[\"건물면적\"].isnull()) & (df_lib[\"도서관유형\"] == \"작은도서관\")] \n",
    "notNull_df = df_lib[df_lib[\"건물면적\"].notnull() & (df_lib['도서관유형'] == \"작은도서관\")]\n",
    "buildmean = np.median(notNull_df[\"건물면적\"] / notNull_df[\"열람좌석수\"])\n",
    "df_lib[\"건물면적\"].fillna(round(null_df[\"열람좌석수\"] * buildmean, 2), inplace = True)\n",
    "buildmean\n",
    "# null_df : 건물면적의 값이 null이며 유형이 '작은도서관'인 데이터프레임\n",
    "# notNull_df : 건물면적의 값이 null이 아니며 유형이 '작은도서관'인 데이터프레임\n",
    "# buildmean : notNull_df안에서 각 도서관마다 건물면적 / 열람좌석수를 계산하여 열람좌석 1개당 평균건물면적 중위값\n",
    "# 기존 데이터프레임에서 건물면적이 null인 곳마다 열람좌석수 * buildmean을 채워줌.\n",
    "\n",
    "## 처음 전체 '건물면적'에서 median 값을 구하고 비교했을 때는 차이가 큼\n",
    "## null_df['도서관유형'].value_counts()로 도서관유형이 '작은도서관'이 다수(작은도서관: 185, 공공도서관: 3)인 것을 확인하고 수정."
   ]
  },
  {
   "cell_type": "code",
   "execution_count": 12,
   "metadata": {},
   "outputs": [],
   "source": [
    "#결측치 채우기 1. 건물면적(2)\n",
    "\n",
    "df_lib['건물면적'][85] = '324'\n",
    "df_lib['건물면적'][86] = '1104'\n",
    "df_lib['건물면적'][235] = '1396.94'\n",
    "\n",
    "#df_lib[df_lib['건물면적'].isnull()]로 null 셀의 index 확인 #공공도서관은 구글링을 통해 빈 칸 채우기 "
   ]
  },
  {
   "cell_type": "code",
   "execution_count": 9,
   "metadata": {},
   "outputs": [],
   "source": [
    "df_lib.isnull().sum()"
   ]
  },
  {
   "cell_type": "markdown",
   "metadata": {},
   "source": [
    "#"
   ]
  },
  {
   "cell_type": "markdown",
   "metadata": {},
   "source": [
    "*위도, 경도 결측치 채우기*\n",
    "\n",
    "1. 위도와 경도가 null인 데이터프레임 생성\n",
    "2. 구글맵 API에 접근\n",
    "3. 도서관 이름 -----(GoogleMap API)-----> 좌표\n",
    "4. 받아온 좌표들을 리스트에 append\n",
    "5. 검색이 되지않는 도서관들은 따로 error_list로 묶어줌\n",
    "6. 좌표 열 새로 만들기 : (유저와 도서관 사이 거리 계산할때 편하게 좌표를 보내기 위해)\n",
    "7. 좌표 열에 받아온 리스트 삽입\n",
    "8. error_list 확인 후 보완\n",
    "9. 필요없어진 위도, 경도 열 삭제"
   ]
  },
  {
   "cell_type": "code",
   "execution_count": 10,
   "metadata": {},
   "outputs": [],
   "source": [
    "#결측치 채우기 2. 위도와 경도(1)\n",
    "\n",
    "loc_null_df = df_lib[(df_lib[\"위도\"].isnull()) | (df_lib[\"경도\"].isnull())]\n",
    "loc_null_df.set_index(\"도서관명\", inplace=True)\n",
    "loc_null_df.head()\n",
    "\n",
    "#위도와 경도가 NaN값인 데이터 프레임만들기\n",
    "#도서관명 값에 쉽게 접근하기 위해 index를 \"도서관명\"으로 설정\n",
    "#loc_null_df.set_index(\"도서관명\", inplace=True)"
   ]
  },
  {
   "cell_type": "code",
   "execution_count": 15,
   "metadata": {},
   "outputs": [],
   "source": [
    "#결측치 채우기 2. 위도와 경도(2)\n",
    "\n",
    "gmaps_key = \"############API KEY##########\"\n",
    "gmaps = googlemaps.Client(key = gmaps_key)\n",
    "#구글맵 API에 할당받은 키로 접속"
   ]
  },
  {
   "cell_type": "code",
   "execution_count": 16,
   "metadata": {},
   "outputs": [],
   "source": [
    "#결측치 채우기 2. 위도와 경도(3) \n",
    "\n",
    "loc = [] #좌표열에 넣어줄 좌표값\n",
    "error_list = [] #구글맵내에서 검색이 되지않는 도서관 \n",
    "\n",
    "for lib_name in loc_null_df.index:\n",
    "    tmp = gmaps.geocode(lib_name) #주소로 검색해 좌표로 돌려주는 API기능\n",
    "\n",
    "    if bool(tmp): #검색이 된다면\n",
    "        tmp_loc = tmp[0].get('geometry')\n",
    "        lat = tmp_loc['location']['lat']\n",
    "        lng = tmp_loc['location']['lng']\n",
    "        if ((lat > 0) & (lng > 0)): #좌표가 -값이면 검색이 잘못된것이므로 error_list 추가\n",
    "            loc.append(str(lat) + \", \" + str(lng))\n",
    "        else:\n",
    "            loc.append(\"0, 0\") \n",
    "            error_list.append(lib_name)\n",
    "    else: #주소로 검색이 안 된다면\n",
    "        loc.append(\"0, 0\") \n",
    "        error_list.append(lib_name)\n",
    "        pass\n",
    "    \n",
    "#구글맵 API 활용 코드"
   ]
  },
  {
   "cell_type": "code",
   "execution_count": 11,
   "metadata": {},
   "outputs": [],
   "source": [
    "#결측치 채우기 2. 위도와 경도(4)\n",
    "\n",
    "loc_null_df[\"좌표\"] = loc\n",
    "loc_null_df.head()\n",
    "#새로운 '좌표' 열을 만들어 받아온 값 추가"
   ]
  },
  {
   "cell_type": "code",
   "execution_count": 19,
   "metadata": {},
   "outputs": [],
   "source": [
    "#결측치 채우기 2. 위도와 경도(5)\n",
    "#error_list => 도서관 이름 확인\n",
    "\n",
    "loc_null_df[\"좌표\"][\"상림6 작은도서관\"] = \"37.6490888, 126.9280755\"\n",
    "loc_null_df[\"좌표\"][\"책뜰에도서관\"] = \"37.64329638160066, 126.92207614232784\"\n",
    "loc_null_df[\"좌표\"][\"두근두근작은도서관 (마고정 3단지 도서관)\"] = \"37.6324903, 126.918633\"\n",
    "loc_null_df[\"좌표\"][\"영광영재도서관\"] = \"37.602983, 126.9070533\"\n",
    "loc_null_df[\"좌표\"][\"KB국민은행과 함께하는 나무작은도서관\"] = \"37.6538637, 127.0601291\"\n",
    "loc_null_df[\"좌표\"][\"산책마을 SH작은도서관\"] = \"37.6335037, 126.9338975\"\n",
    "#구글링으로 추가"
   ]
  },
  {
   "cell_type": "code",
   "execution_count": 22,
   "metadata": {},
   "outputs": [],
   "source": [
    "#결측치 채우기 2. 위도와 경도(6)\n",
    "\n",
    "for i in range(len(loc_null_df)):\n",
    "    loc_null_df['위도'].values[i] = loc_null_df['좌표'].values[i].split(', ')[0]\n",
    "    loc_null_df['경도'].values[i] = loc_null_df['좌표'].values[i].split(', ')[1]\n",
    "    \n",
    "# 받아온 좌표 값을 쪼개서 위도와 경도 열 채우기"
   ]
  },
  {
   "cell_type": "code",
   "execution_count": 12,
   "metadata": {},
   "outputs": [],
   "source": [
    "loc_null_df.head()\n",
    "#위도, 경도를 채운 데이터프레임"
   ]
  },
  {
   "cell_type": "code",
   "execution_count": 24,
   "metadata": {},
   "outputs": [],
   "source": [
    "#데이터프레임 통합(1)\n",
    "\n",
    "loc_null_df.reset_index(inplace=True)\n",
    "#기존 df과 구조를 맞추기 위한 index reset"
   ]
  },
  {
   "cell_type": "code",
   "execution_count": 25,
   "metadata": {},
   "outputs": [],
   "source": [
    "#데이터프레임 통합(2)\n",
    "\n",
    "df_lib['위도'] = df_lib['위도'].fillna(0)\n",
    "df_lib['경도'] = df_lib['경도'].fillna(0)\n",
    "#기본 df의 위도, 경도 null값 조정\n",
    "loc_exist_df = df_lib[ df_lib['위도'] != 0 ]\n",
    "#null 값이 없는 df 생성\n",
    "df_lib_filled = pd.concat([loc_exist_df, loc_null_df], axis=0, ignore_index=True)\n",
    "#null 값이 없는 df와 null 값을 채운 df를 'df_lib_filled'로 통합"
   ]
  },
  {
   "cell_type": "code",
   "execution_count": 26,
   "metadata": {},
   "outputs": [],
   "source": [
    "#데이터프레임 통합(3)\n",
    "\n",
    "df_lib_filled['좌표'] = df_lib_filled['위도'].astype('str')+', '+df_lib_filled['경도'].astype('str')\n",
    "#추후 작업을 위한 좌표열 생성"
   ]
  },
  {
   "cell_type": "code",
   "execution_count": 13,
   "metadata": {},
   "outputs": [],
   "source": [
    "df_lib_filled.isnull().sum()"
   ]
  },
  {
   "cell_type": "code",
   "execution_count": 14,
   "metadata": {},
   "outputs": [],
   "source": [
    "df_lib_filled.head()"
   ]
  },
  {
   "cell_type": "code",
   "execution_count": null,
   "metadata": {},
   "outputs": [],
   "source": [
    "df_lib_filled.to_csv(\"꽉찬전국도서관표준데이터-20201223.csv\", encoding='utf-8')\n",
    "#파일로 저장"
   ]
  }
 ],
 "metadata": {
  "kernelspec": {
   "display_name": "Python 3",
   "language": "python",
   "name": "python3"
  },
  "language_info": {
   "codemirror_mode": {
    "name": "ipython",
    "version": 3
   },
   "file_extension": ".py",
   "mimetype": "text/x-python",
   "name": "python",
   "nbconvert_exporter": "python",
   "pygments_lexer": "ipython3",
   "version": "3.7.3"
  }
 },
 "nbformat": 4,
 "nbformat_minor": 2
}
