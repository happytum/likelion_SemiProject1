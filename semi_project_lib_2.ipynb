{
 "cells": [
  {
   "cell_type": "code",
   "execution_count": 26,
   "metadata": {},
   "outputs": [],
   "source": [
    "import pandas as pd\n",
    "import googlemaps\n",
    "import json\n",
    "from haversine import haversine\n",
    "from sklearn import preprocessing\n",
    "import folium"
   ]
  },
  {
   "cell_type": "code",
   "execution_count": 27,
   "metadata": {},
   "outputs": [],
   "source": [
    "#데이터프레임 불러오기\n",
    "df = pd.read_csv(\"꽉찬전국도서관표준데이터-20201223.csv\", index_col=0, encoding='utf-8')\n",
    "columns = ['도서관명', '도서관유형', '열람좌석수', '자료수', '건물면적', '위도', '경도', '좌표']\n",
    "df = df[columns]"
   ]
  },
  {
   "cell_type": "code",
   "execution_count": 28,
   "metadata": {},
   "outputs": [],
   "source": [
    "choice_ex = [\"열람좌석수\", \"건물면적\", \"자료수\"]\n",
    "\n",
    "def user_preference():\n",
    "    \n",
    "    while len(choice_ex) == 3:\n",
    "        print(\"-----아래의 목록에서 골라주세요-----\") \n",
    "        print(choice_ex)\n",
    "        print(\"------------------------------------\")\n",
    "        point1 = input(\"1순위 : \")\n",
    "        if point1 not in choice_ex:\n",
    "            print(\"입력이 잘못되었습니다. 다시 입력해주세요\")\n",
    "            continue\n",
    "        else:\n",
    "            choice_ex.remove(point1)\n",
    "            \n",
    "    while len(choice_ex) == 2:\n",
    "        print(\"-----아래의 목록에서 골라주세요-----\") \n",
    "        print(choice_ex)\n",
    "        print(\"------------------------------------\")\n",
    "        point2 = input(\"2순위 : \")\n",
    "        if point2 not in choice_ex:\n",
    "            print(\"입력이 잘못되었습니다. 다시 입력해주세요\")\n",
    "            continue\n",
    "        else:\n",
    "            choice_ex.remove(point2)\n",
    "    \n",
    "    point3 = choice_list[0]\n",
    "                       \n",
    "    print(\"3순위 : \" + point3)\n",
    "    return point1 , point2 , point3"
   ]
  },
  {
   "cell_type": "code",
   "execution_count": 29,
   "metadata": {},
   "outputs": [],
   "source": [
    "point1 , point2 , point3 = user_preference()\n",
    "\n",
    "loc = input(\"위치 입력 : \")"
   ]
  },
  {
   "cell_type": "code",
   "execution_count": 30,
   "metadata": {},
   "outputs": [],
   "source": [
    "#'거리' 구하기 밑작업\n",
    "df['거리'] = 0.00\n",
    "\n",
    "#Google Map API 접속\n",
    "gmaps_key = \"##############API KEY#############\"\n",
    "gmaps = googlemaps.Client(key = gmaps_key)\n",
    "\n",
    "#좌표값 받는 함수\n",
    "def user_location(user_loc): \n",
    "    while True :\n",
    "        tmp = gmaps.geocode(user_loc) #주소로 검색해 좌표로 돌려주는 API기능\n",
    "        if bool(tmp) : #검색이 된다면\n",
    "            tmp_loc = tmp[0].get('geometry')\n",
    "            lat = tmp_loc['location']['lat']\n",
    "            lng = tmp_loc['location']['lng']\n",
    "            if ((lat > 0) & (lng > 0)): #검색성공\n",
    "                return lat, lng\n",
    "        else:\n",
    "            print('정확한 도로명 주소를 남겨주세요')\n",
    "            user_loc = input(\"위치 입력 : \")\n",
    "            continue\n",
    "            "
   ]
  },
  {
   "cell_type": "code",
   "execution_count": 31,
   "metadata": {},
   "outputs": [],
   "source": [
    "#입력받은 위치 기반 '거리' 열 구하기\n",
    "location = loc\n",
    "loc1 = user_location(location)\n",
    "df['거리'] = df.apply(lambda row: haversine(loc1, (row['위도'], row['경도'])), axis = 1)\n",
    "#haversine 함수 재사용 #처리 시간을 줄이기 위한 apply 함수 활용"
   ]
  },
  {
   "cell_type": "code",
   "execution_count": 32,
   "metadata": {},
   "outputs": [],
   "source": [
    "#가까운 도서관 상위 10개 뽑기\n",
    "df_top = df.sort_values(by='거리', axis=0).head(10)\n",
    "df_top"
   ]
  },
  {
   "cell_type": "code",
   "execution_count": 33,
   "metadata": {},
   "outputs": [],
   "source": [
    "#정규화\n",
    "org_columns = ['도서관명', '위도', '경도', '열람좌석수', '자료수'] #위도와 경도의 정규화방지를 위해 필요한 열만 넣어서 데이터프레임을 따로복사\n",
    "df_org = df_top[org_columns]\n",
    "columns = ['도서관명', '열람좌석수', '자료수', '건물면적', '거리']\n",
    "df_top = df_top[columns]\n",
    "\n",
    "df_top.set_index('도서관명', inplace=True) #두개 다 인덱스를 도서관명으로 지정\n",
    "df_org.set_index('도서관명', inplace=True)\n",
    "\n",
    "#정규화를 위해 데이터프레임 잠시 분리\n",
    "df_top_dist = df_top['거리']\n",
    "\n",
    "df_top_nodist = df_top.copy(deep=True)\n",
    "del df_top_nodist['거리']"
   ]
  },
  {
   "cell_type": "code",
   "execution_count": 34,
   "metadata": {},
   "outputs": [],
   "source": [
    "# Min-Max 정규화\n",
    "scaler = preprocessing.MinMaxScaler()\n",
    "scaler.fit(df_top_nodist)\n",
    "df_top_norm = scaler.transform(df_top_nodist)\n",
    "\n",
    "# 정규화값 결정하기\n",
    "df_top_norm = pd.DataFrame(df_top_norm)\n",
    "df_top_norm.index = df_top_nodist.index\n",
    "df_top_norm.columns = df_top_nodist.columns\n",
    "df_top_norm['거리'] = df_top_dist\n",
    "df_top_norm"
   ]
  },
  {
   "cell_type": "code",
   "execution_count": 35,
   "metadata": {},
   "outputs": [],
   "source": [
    "#점수 내기\n",
    "df_top_norm['score'] = (df_top_norm[point1] * 6) \\\n",
    "                        + (df_top_norm[point2] * 3) \\\n",
    "                        + (df_top_norm[point3] * 1)\n",
    "df_top_norm['score'] = df_top_norm['score']\n",
    "df_top_norm"
   ]
  },
  {
   "cell_type": "code",
   "execution_count": 36,
   "metadata": {},
   "outputs": [],
   "source": [
    "#현재까지는 정렬구조가 같으므로 기존 복사해둔 df_org에서 위도와 경도 열을 가져와서 그대로 넣어줌(score 기준으로 정렬하기전에) \n",
    "for name in df_org:\n",
    "    df_top_norm[\"위도\"] = df_org[\"위도\"]\n",
    "    df_top_norm[\"경도\"] = df_org[\"경도\"]\n",
    "    df_top_norm[\"자료수(원본)\"] = df_org[\"자료수\"]\n",
    "    df_top_norm[\"열람좌석수(원본)\"] = df_org[\"열람좌석수\"]"
   ]
  },
  {
   "cell_type": "code",
   "execution_count": 37,
   "metadata": {},
   "outputs": [],
   "source": [
    "#최종 데이터프레임\n",
    "df_top_norm = df_top_norm.sort_values(by=\"score\",ascending=False)\n",
    "df_top_norm"
   ]
  },
  {
   "cell_type": "code",
   "execution_count": 38,
   "metadata": {},
   "outputs": [],
   "source": [
    "#지도 시각화\n",
    "\n",
    "n_list = []\n",
    "m_number_list = []\n",
    "s_number_list = []\n",
    "\n",
    "\n",
    "map = folium.Map(location=loc1, zoom_start=14)\n",
    "\n",
    "\n",
    "for i , n in enumerate(df_top_norm.index):\n",
    "    n_list.append(n)\n",
    "    m_number_list.append(df_top_norm['자료수(원본)'][n])\n",
    "    s_number_list.append(df_top_norm['열람좌석수(원본)'][n])\n",
    "    \n",
    "    if i == 0 : \n",
    "        folium.Marker([df_top_norm['위도'][n], df_top_norm['경도'][n]], \n",
    "                  popup = \"추천순위 : \" + str(i+1)\n",
    "                  + \"<br>도서관명 : \" + n\n",
    "                  + \"<br>자료수 : \" + str(df_top_norm['자료수(원본)'][n]) \n",
    "                  + \"<br>열람좌석수 : \" + str(df_top_norm['열람좌석수(원본)'][n]), \n",
    "                  icon= (folium.Icon(icon=\"book\", prefix=\"fa\", color=\"red\"))).add_to(map)\n",
    "    \n",
    "    elif i <= 3 :\n",
    "        folium.Marker([df_top_norm['위도'][n], df_top_norm['경도'][n]], \n",
    "                  popup = \"추천순위 : \" + str(i+1)\n",
    "                  + \"<br>도서관명 : \" + n\n",
    "                  + \"<br>자료수 : \" + str(df_top_norm['자료수(원본)'][n]) \n",
    "                  + \"<br>열람좌석수 : \" + str(df_top_norm['열람좌석수(원본)'][n]), \n",
    "                  icon= (folium.Icon(icon=\"book\", prefix=\"fa\", color=\"blue\"))).add_to(map)\n",
    "        \n",
    "    else :\n",
    "        folium.Marker([df_top_norm['위도'][n], df_top_norm['경도'][n]], \n",
    "                  popup = \"추천순위 : \" + str(i+1)\n",
    "                  + \"<br>도서관명 : \" + n\n",
    "                  + \"<br>자료수 : \" + str(df_top_norm['자료수(원본)'][n]) \n",
    "                  + \"<br>열람좌석수 : \" + str(df_top_norm['열람좌석수(원본)'][n]), \n",
    "                  icon= (folium.Icon(icon=\"book\", prefix=\"fa\", color=\"green\"))).add_to(map)\n",
    "                  \n",
    "    \n",
    "    map.save('map.html')"
   ]
  },
  {
   "cell_type": "code",
   "execution_count": 39,
   "metadata": {},
   "outputs": [],
   "source": [
    "#문구 삽입\n",
    "\n",
    "print(\"가장 추천하는 도서관 : {}\".format(df_top_norm.index[0]))\n",
    "\n",
    "print(\"지도를 확인하세요.\")"
   ]
  },
  {
   "cell_type": "code",
   "execution_count": 40,
   "metadata": {},
   "outputs": [],
   "source": [
    "import webbrowser\n",
    "import os , time\n",
    "print(\"5초 후 map이 자동으로 열립니다\")\n",
    "\n",
    "for x in reversed(range(5)):\n",
    "    print(x + 1)\n",
    "    time.sleep(1)\n",
    "webbrowser.open('file://' + os.path.realpath(\"./map.html\"))"
   ]
  },
  {
   "cell_type": "markdown",
   "metadata": {},
   "source": [
    "### 목차\n",
    "\n",
    "1. 데이터 셋 설명\n",
    "\n",
    "2. 전처리\n",
    "  - 결측치처리\n",
    "  - 정규화\n",
    "  \n",
    "3. 순위도출\n",
    "  - 위치입력\n",
    "  - 거리계산\n",
    "  - 선호도입력\n",
    "  - 점수계산\n",
    "\n",
    "4. 시각화\n",
    "  - 지도시각화\n",
    "  - 순위별 분류"
   ]
  },
  {
   "cell_type": "code",
   "execution_count": null,
   "metadata": {},
   "outputs": [],
   "source": []
  }
 ],
 "metadata": {
  "kernelspec": {
   "display_name": "Python 3",
   "language": "python",
   "name": "python3"
  },
  "language_info": {
   "codemirror_mode": {
    "name": "ipython",
    "version": 3
   },
   "file_extension": ".py",
   "mimetype": "text/x-python",
   "name": "python",
   "nbconvert_exporter": "python",
   "pygments_lexer": "ipython3",
   "version": "3.7.3"
  }
 },
 "nbformat": 4,
 "nbformat_minor": 2
}
